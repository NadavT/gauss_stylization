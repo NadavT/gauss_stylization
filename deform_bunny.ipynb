{
 "cells": [
  {
   "attachments": {},
   "cell_type": "markdown",
   "metadata": {},
   "source": [
    "# Imports"
   ]
  },
  {
   "cell_type": "code",
   "execution_count": 1,
   "metadata": {},
   "outputs": [],
   "source": [
    "import igl\n",
    "import scipy as sp\n",
    "import numpy as np\n",
    "from meshplot import plot, subplot, interact\n",
    "import meshplot as mp\n",
    "from math import exp\n",
    "\n",
    "import os\n",
    "root_folder = os.getcwd()"
   ]
  },
  {
   "cell_type": "markdown",
   "metadata": {},
   "source": [
    "# Load meshes"
   ]
  },
  {
   "cell_type": "code",
   "execution_count": 2,
   "metadata": {},
   "outputs": [],
   "source": [
    "def normalize_unitbox(V):\n",
    "\tV = V - V.min()\n",
    "\tV = V / V.max()\n",
    "\treturn V"
   ]
  },
  {
   "cell_type": "code",
   "execution_count": 3,
   "metadata": {},
   "outputs": [],
   "source": [
    "## Load a mesh in OFF format\n",
    "sphere_v, sphere_f = igl.read_triangle_mesh(os.path.join(root_folder, \"data\", \"sphere_s3.off\"))\n",
    "model_v, model_f = igl.read_triangle_mesh(os.path.join(root_folder, \"data\", \"bunny2.off\"))\n",
    "# model_v, model_f = igl.read_triangle_mesh(os.path.join(root_folder, \"data\", \"sphere.obj\"))\n",
    "\n",
    "model_v = normalize_unitbox(model_v)"
   ]
  },
  {
   "attachments": {},
   "cell_type": "markdown",
   "metadata": {},
   "source": [
    "# Precompute"
   ]
  },
  {
   "cell_type": "code",
   "execution_count": 4,
   "metadata": {},
   "outputs": [],
   "source": [
    "# Get topology and cot laplacian\n",
    "ev, fe, ef = igl.edge_topology(model_v, model_f)\n",
    "L = igl.cotmatrix(model_v, model_f)\n",
    "adj_f_list, NI = igl.vertex_triangle_adjacency(model_f, model_v.shape[0])\n",
    "adj_f_list = [adj_f_list[NI[i]:NI[i+1]] for i in range(model_v.shape[0])]\n",
    "\n",
    "arap_rhs = igl.arap_rhs(model_v, model_f, model_v.shape[1], igl.ARAP_ENERGY_TYPE_SPOKES_AND_RIMS)\n",
    "\n",
    "faces_adj_edges = [fe[i] for i in adj_f_list]\n",
    "faces_adj_vertices = [ev[i] for i in faces_adj_edges]\n",
    "\n",
    "he_list = [faces_adj_vertices[i].reshape(-1, 2) for i in range(model_v.shape[0])]\n",
    "\n",
    "w_vec_list = [np.array([[L[i, j] for i, j in f] for f in v]).reshape(-1,1) for v in faces_adj_vertices]\n",
    "\n",
    "dv_list = [(model_v[he_list[i][:,1]] - model_v[he_list[i][:,0]]).reshape(-1,3).transpose() for i in range(model_v.shape[0])]\n",
    "\n",
    "RAll = np.tile(np.eye(3), model_v.shape[0])"
   ]
  },
  {
   "attachments": {},
   "cell_type": "markdown",
   "metadata": {},
   "source": [
    "# Calculating function"
   ]
  },
  {
   "cell_type": "code",
   "execution_count": 5,
   "metadata": {},
   "outputs": [],
   "source": [
    "def normalize_g_weights(N: list[np.array], sigma: float):\n",
    "\tmat = np.zeros((len(N), len(N)))\n",
    "\tmat = np.array([[exp(sigma * N[i][:].dot(N[j][:])) for j in range(len(N))] for i in range(len(N))])\n",
    "\treturn sp.linalg.solve(mat, np.ones(len(N)))"
   ]
  },
  {
   "cell_type": "code",
   "execution_count": 6,
   "metadata": {},
   "outputs": [],
   "source": [
    "def g_value(v, N, w, sigma):\n",
    "\treturn sum(w[i] * exp(sigma * v.dot(N[i])) for i in range(len(N)))\n",
    "\n",
    "def g_gradient(v, N, w, sigma):\n",
    "\treturn sigma * sum(w[i] * N[i] * exp(sigma * v.dot(N[i])) for i in range(len(N)))\n",
    "\n",
    "def g_hessian(v, N, w, sigma):\n",
    "\treturn (sigma**2) * sum(w[i] * exp(sigma * v.dot(N[i])) * N[i].reshape((-1,1)) * N[i] for i in range(len(N)))\n"
   ]
  },
  {
   "cell_type": "code",
   "execution_count": 7,
   "metadata": {},
   "outputs": [],
   "source": [
    "N = [\n",
    "\t\tnp.array([1,0,0]), np.array([-1,0,0]),\n",
    "\t\tnp.array([0,1,0]), np.array([0,-1,0]),\n",
    "\t\tnp.array([0,0,1]), np.array([0,0,-1]),\n",
    "\t]\n",
    "sigma = 8\n",
    "mu = 1\n",
    "lambda_value = 4\n",
    "w = normalize_g_weights(N, sigma)"
   ]
  },
  {
   "cell_type": "code",
   "execution_count": 8,
   "metadata": {},
   "outputs": [],
   "source": [
    "new_sphere_v = np.array([i * g_value(i, N, w, sigma) for i in sphere_v[:]])"
   ]
  },
  {
   "cell_type": "code",
   "execution_count": 18,
   "metadata": {},
   "outputs": [],
   "source": [
    "import multiprocessing\n",
    "\n",
    "def single_iteration(V, U, F, iterations):\n",
    "\t# Initialization\n",
    "\te_ij_stars = [U[ev[i,1]] - U[ev[i,0]] for i in range(ev.shape[0])]\n",
    "\tnf_stars = igl.per_face_normals(U, F, np.array([1.0,0.0,0.0]))\n",
    "\tu = np.zeros([ev.shape[0], 3])\n",
    "\t\n",
    "\t# ADMM optimization\n",
    "\tfor i in range(iterations):\n",
    "\t\tfor f in range(F.shape[0]):\n",
    "\t\t\tg_grad = g_gradient(nf_stars[f,:], N, w, sigma)\n",
    "\t\t\tHg = g_hessian(nf_stars[f,:], N, w, sigma)\n",
    "\n",
    "\t\t\tr_grad = np.zeros(3)\n",
    "\t\t\tHr = np.zeros([3,3])\n",
    "\t\t\tfor j in range(3):\n",
    "\t\t\t\te = fe[f, j]\n",
    "\t\t\t\tv1 = ev[e, 0]\n",
    "\t\t\t\tv2 = ev[e, 1]\n",
    "\t\t\t\tw_ij = L[v1,v2]\n",
    "\t\t\t\te_ij_star = e_ij_stars[e]\n",
    "\t\t\t\tr_grad += (lambda_value * w_ij * (e_ij_star.dot(nf_stars[f,:]) + u[f, j]) * e_ij_star)\n",
    "\t\t\t\tHr += lambda_value * w_ij * (e_ij_star.reshape(-1,1) * e_ij_star.reshape(1,-1))\n",
    "\n",
    "\t\t\t# Newton step\n",
    "\t\t\tgn = (r_grad - g_grad)\n",
    "\t\t\tgn_newton = sp.linalg.lstsq(Hr - Hg, -gn)[0]\n",
    "\n",
    "\t\t\t# project gradient step\n",
    "\t\t\tpt = (np.eye(3) - nf_stars[f,:].reshape(-1,1) * nf_stars[f,:].reshape(1,-1))\n",
    "\t\t\td = pt.dot(gn_newton)\n",
    "\t\t\tif d.dot(gn) > 0:\n",
    "\t\t\t\td = -0.1 * pt.dot(gn)\n",
    "\t\t\n",
    "\t\t\t# Update normal\n",
    "\t\t\tnf_stars[f,:] += d\n",
    "\t\t\tnf_stars[f,:] /= np.linalg.norm(nf_stars[f,:])\n",
    "\n",
    "\t\tfor e in range(ev.shape[0]):\n",
    "\t\t\tf1 = ef[e, 0]\n",
    "\t\t\tf2 = ef[e, 1]\n",
    "\t\t\tv1 = ev[e, 0]\n",
    "\t\t\tv2 = ev[e, 1]\n",
    "\t\t\te_ij = U[v2,:] - U[v1,:]\n",
    "\t\t\tw_ij = L[v1,v2]\n",
    "\n",
    "\t\t\tA = np.eye(3)\n",
    "\t\t\trhs = e_ij\n",
    "\n",
    "\t\t\tif f1 != -1:\n",
    "\t\t\t\tA += mu * nf_stars[f1,:].reshape(-1,1) * nf_stars[f1,:].reshape(1,-1)\n",
    "\t\t\t\tfor k in range(3):\n",
    "\t\t\t\t\tif fe[f1, k] == e:\n",
    "\t\t\t\t\t\trhs -= mu * nf_stars[f1,:] * u[f1, k]\n",
    "\t\t\tif f2 != -1:\n",
    "\t\t\t\tA += mu * nf_stars[f2,:].reshape(-1,1) * nf_stars[f2,:].reshape(1,-1)\n",
    "\t\t\t\tfor k in range(3):\n",
    "\t\t\t\t\tif fe[f2, k] == e:\n",
    "\t\t\t\t\t\trhs -= mu * nf_stars[f2,:] * u[f2, k]\n",
    "\n",
    "\t\t\te_ij_stars[e] = sp.linalg.lstsq(A, rhs)[0]\n",
    "\n",
    "\t\t# Update u\n",
    "\t\t# TODO\n",
    "\n",
    "\tE_target_edges_rhs = np.zeros([V.shape[0], 3])\n",
    "\tfor e in range(ev.shape[0]):\n",
    "\t\tv1 = ev[e, 0]\n",
    "\t\tv2 = ev[e, 1]\n",
    "\t\tw_ij = L[v1,v2]\n",
    "\t\tE_target_edges_rhs[v1,:] -= w_ij * e_ij_stars[e]\n",
    "\t\tE_target_edges_rhs[v2,:] += w_ij * e_ij_stars[e]\n",
    "\n",
    "\n",
    "\t# ARAP local step\n",
    "\trotations = []\n",
    "\tfor i in range(U.shape[0]):\n",
    "\t\tedge_starts = U[he_list[i][:,0]]\n",
    "\t\tedge_ends = U[he_list[i][:,1]]\n",
    "\n",
    "\t\tSB = (dv_list[i].dot(np.diag(w_vec_list[i].flatten()))).dot(edge_ends - edge_starts)\n",
    "\n",
    "\t\tu, s, vh = np.linalg.svd(SB)\n",
    "\t\tif np.linalg.det(u.dot(vh)) < 0:\n",
    "\t\t\tvh[2,:] *= -1\n",
    "\t\tRAll[:,i*3:(i+1)*3] = u.dot(vh).transpose()\n",
    "\t\trotations.append(u.dot(vh).transpose())\n",
    "\n",
    "\t# ARAP global step\n",
    "\tRcol = np.array([rot[j,i] for i in range(3) for j in range(3) for rot in rotations]).reshape(-1,1)\n",
    "\t# for b in range(V.shape[0]):\n",
    "\t# \tfor i in range(3):\n",
    "\t# \t\tfor j in range(3):\n",
    "\t# \t\t\tRcol[j*3*V.shape[0] + i*V.shape[0] + b] = RAll[i, b*3 + j]\n",
    "\t# [rotations[i][0,0] for i in range(len(rotations))]\n",
    "\t# Rcol2 = np.concatenate(()\n",
    "\n",
    "\tBcol = arap_rhs.dot(Rcol)\n",
    "\tfor dim in range(V.shape[1]):\n",
    "\t\tBc = (Bcol[dim*V.shape[0]:(dim+1)*V.shape[0]] + lambda_value * E_target_edges_rhs[:,dim].reshape(-1,1)) / (1 + lambda_value)\n",
    "\n",
    "\t\tbcc = np.array([V[F[0,0],dim]])\n",
    "\t\tUc = igl.min_quad_with_fixed(L, Bc, np.array([0],dtype=int), bcc, sp.sparse.csr_matrix((0,0)), np.array([]), False)\n",
    "\t\tU[:,dim] = Uc[1]"
   ]
  },
  {
   "cell_type": "code",
   "execution_count": 19,
   "metadata": {},
   "outputs": [],
   "source": [
    "import copy\n",
    "U = copy.deepcopy(model_v)\n",
    "for i in range(5):\n",
    "\tsingle_iteration(model_v, U, model_f, 1)"
   ]
  },
  {
   "cell_type": "code",
   "execution_count": 19,
   "metadata": {},
   "outputs": [],
   "source": [
    "for i in range(5):\n",
    "\tsingle_iteration(model_v, U, model_f, 1)"
   ]
  },
  {
   "cell_type": "code",
   "execution_count": 31,
   "metadata": {},
   "outputs": [
    {
     "data": {
      "text/plain": [
       "(6358, 3)"
      ]
     },
     "execution_count": 31,
     "metadata": {},
     "output_type": "execute_result"
    }
   ],
   "source": [
    "U.shape"
   ]
  },
  {
   "cell_type": "code",
   "execution_count": null,
   "metadata": {},
   "outputs": [],
   "source": [
    "U30 = copy.deepcopy(U)"
   ]
  },
  {
   "cell_type": "code",
   "execution_count": null,
   "metadata": {},
   "outputs": [],
   "source": [
    "U20 = copy.deepcopy(U)"
   ]
  },
  {
   "cell_type": "code",
   "execution_count": 11,
   "metadata": {},
   "outputs": [
    {
     "data": {
      "application/vnd.jupyter.widget-view+json": {
       "model_id": "8f8f47951bb342c3a9f781d1092e0765",
       "version_major": 2,
       "version_minor": 0
      },
      "text/plain": [
       "Renderer(camera=PerspectiveCamera(children=(DirectionalLight(color='white', intensity=0.6, position=(0.0, 0.0,…"
      ]
     },
     "metadata": {},
     "output_type": "display_data"
    },
    {
     "data": {
      "application/vnd.jupyter.widget-view+json": {
       "model_id": "7699b62ffc9d46d2ba1100ec6bb8884d",
       "version_major": 2,
       "version_minor": 0
      },
      "text/plain": [
       "interactive(children=(Dropdown(description='mesh', options=(('displaced', 0), ('sphere', 1)), value=0), Output…"
      ]
     },
     "metadata": {},
     "output_type": "display_data"
    },
    {
     "data": {
      "text/plain": [
       "<meshplot.Viewer.Viewer at 0x7f4eeb6629b0>"
      ]
     },
     "execution_count": 11,
     "metadata": {},
     "output_type": "execute_result"
    }
   ],
   "source": [
    "p = mp.plot(new_sphere_v, sphere_f, return_plot=True)\n",
    "\n",
    "vertices = [new_sphere_v, sphere_v]\n",
    "\n",
    "@mp.interact(mesh=[('displaced', 0), ('sphere', 1)])\n",
    "def ff(mesh):\n",
    "    mp.plot(vertices[mesh], sphere_f, plot=p)\n",
    "p"
   ]
  },
  {
   "cell_type": "code",
   "execution_count": 20,
   "metadata": {},
   "outputs": [
    {
     "data": {
      "application/vnd.jupyter.widget-view+json": {
       "model_id": "1ba83f16558945fc9995e31b4cec606c",
       "version_major": 2,
       "version_minor": 0
      },
      "text/plain": [
       "Renderer(camera=PerspectiveCamera(children=(DirectionalLight(color='white', intensity=0.6, position=(0.2771663…"
      ]
     },
     "metadata": {},
     "output_type": "display_data"
    },
    {
     "data": {
      "application/vnd.jupyter.widget-view+json": {
       "model_id": "de1c38e7da29424b9f53b8edc5a930b7",
       "version_major": 2,
       "version_minor": 0
      },
      "text/plain": [
       "interactive(children=(Dropdown(description='mesh', options=(('before', 0), ('after', 1)), value=0), Output()),…"
      ]
     },
     "metadata": {},
     "output_type": "display_data"
    },
    {
     "data": {
      "text/plain": [
       "<meshplot.Viewer.Viewer at 0x7fab7aeb1d50>"
      ]
     },
     "execution_count": 20,
     "metadata": {},
     "output_type": "execute_result"
    }
   ],
   "source": [
    "p = mp.plot(model_v, model_f, return_plot=True)\n",
    "\n",
    "vertices = [model_v, U]\n",
    "\n",
    "@mp.interact(mesh=[('before', 0), ('after', 1)])\n",
    "def ff(mesh):\n",
    "    mp.plot(vertices[mesh], model_f, plot=p)\n",
    "p"
   ]
  }
 ],
 "metadata": {
  "kernelspec": {
   "display_name": "dgp",
   "language": "python",
   "name": "python3"
  },
  "language_info": {
   "codemirror_mode": {
    "name": "ipython",
    "version": 3
   },
   "file_extension": ".py",
   "mimetype": "text/x-python",
   "name": "python",
   "nbconvert_exporter": "python",
   "pygments_lexer": "ipython3",
   "version": "3.10.8"
  },
  "orig_nbformat": 4,
  "vscode": {
   "interpreter": {
    "hash": "3d10a4abe45d9833ada86cb296a0ea74bc11d8d0518f0810ed49f5e7ff261ff3"
   }
  }
 },
 "nbformat": 4,
 "nbformat_minor": 2
}
